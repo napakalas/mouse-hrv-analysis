{
 "cells": [
  {
   "cell_type": "code",
   "execution_count": 30,
   "id": "8b9280c9",
   "metadata": {},
   "outputs": [],
   "source": [
    "import numpy as np\n",
    "import mat73\n",
    "from datetime import datetime, timedelta\n",
    "import logging as log\n",
    "\n",
    "import wfdb\n",
    "from wfdb import processing\n",
    "import matplotlib.pyplot as plt\n",
    "from matplotlib.colors import Normalize\n",
    "import numpy as np\n",
    "\n",
    "from tqdm import tqdm\n",
    "\n",
    "import pyhrv.time_domain as td"
   ]
  },
  {
   "cell_type": "code",
   "execution_count": 24,
   "id": "037aa9b0",
   "metadata": {},
   "outputs": [],
   "source": [
    "from AdInstrumentData import AdInstrumentData"
   ]
  },
  {
   "cell_type": "code",
   "execution_count": 25,
   "id": "2fdb4208",
   "metadata": {},
   "outputs": [],
   "source": [
    "# Load all files\n",
    "import os\n",
    "\n",
    "def get_file_list(directory):\n",
    "    return [os.path.join(directory, file) for file in os.listdir(directory) if file.endswith(\".mat\")]\n"
   ]
  },
  {
   "cell_type": "markdown",
   "id": "fdb2754d",
   "metadata": {},
   "source": [
    "## Analysis mouse 4,5"
   ]
  },
  {
   "cell_type": "code",
   "execution_count": 26,
   "id": "7fd0dda6",
   "metadata": {},
   "outputs": [],
   "source": [
    "# setup\n",
    "log.basicConfig(level=log.INFO)\n",
    "\n",
    "# duration = 3600 #1 hour\n",
    "# sliding_window = 1800 # 30 minutes\n",
    "duration = 600 # 10 minutes\n",
    "sliding_window = 300 # 5 minutes\n",
    "\n",
    "minimum_data_validity = 0.3\n",
    "minimum_nni_count = 10\n",
    "\n",
    "calculated = {'hr_means':[], 'activity':[], 'val_level':[], 'from_time':[], 'to_time':[], 'channel':[]}\n"
   ]
  },
  {
   "cell_type": "code",
   "execution_count": 27,
   "id": "9aac5911",
   "metadata": {},
   "outputs": [],
   "source": [
    "channels = [5,8]\n",
    "directory = '/Volumes/Aswaty Nur/Pilot Project 2 (2023)/Converted_telemetry_20230315_mat'"
   ]
  },
  {
   "cell_type": "code",
   "execution_count": 1,
   "id": "17c07e4d",
   "metadata": {},
   "outputs": [
    {
     "ename": "NameError",
     "evalue": "name 'get_file_list' is not defined",
     "output_type": "error",
     "traceback": [
      "\u001b[0;31m---------------------------------------------------------------------------\u001b[0m",
      "\u001b[0;31mNameError\u001b[0m                                 Traceback (most recent call last)",
      "Cell \u001b[0;32mIn[1], line 2\u001b[0m\n\u001b[1;32m      1\u001b[0m check \u001b[38;5;241m=\u001b[39m \u001b[38;5;28;01mFalse\u001b[39;00m\n\u001b[0;32m----> 2\u001b[0m \u001b[38;5;28;01mfor\u001b[39;00m file \u001b[38;5;129;01min\u001b[39;00m \u001b[43mget_file_list\u001b[49m(directory):\n\u001b[1;32m      3\u001b[0m     \u001b[38;5;28;01mif\u001b[39;00m \u001b[38;5;124m'\u001b[39m\u001b[38;5;124mMouse03 to 06_20230316 pm.mat\u001b[39m\u001b[38;5;124m'\u001b[39m \u001b[38;5;129;01min\u001b[39;00m \u001b[38;5;28mstr\u001b[39m(file):\n\u001b[1;32m      4\u001b[0m         check \u001b[38;5;241m=\u001b[39m \u001b[38;5;28;01mTrue\u001b[39;00m\n",
      "\u001b[0;31mNameError\u001b[0m: name 'get_file_list' is not defined"
     ]
    }
   ],
   "source": [
    "check = False\n",
    "for file in get_file_list(directory):\n",
    "    if 'Mouse03 to 06_20230316 pm.mat' in str(file):\n",
    "        check = True\n",
    "    if check:\n",
    "        aw_data = AdInstrumentData([file])\n",
    "    \n",
    "        start_time = raw_data.start_time\n",
    "        finish_time = start_time + timedelta(seconds=duration)\n",
    "\n",
    "        timer = 0\n",
    "\n",
    "        while start_time < raw_data.finish_time:\n",
    "            for channel in channels:\n",
    "                if finish_time > raw_data.finish_time:\n",
    "                    finish_time = raw_data.finish_time\n",
    "                ecg = raw_data.get_data(channel, from_time=start_time, to_time=finish_time)\n",
    "                hr_parameter = td.hr_parameters(nni=ecg['nni'])\n",
    "                calculated['hr_means'] += [hr_parameter[0]]\n",
    "                calculated['activity'] += [np.mean(ecg['activity'])]\n",
    "                calculated['val_level'] += [ecg['val_level']]\n",
    "                calculated['from_time'] += [ecg['from_time']]\n",
    "                calculated['to_time'] += [ecg['to_time']]\n",
    "                calculated['channel'] += [channel]\n",
    "            start_time = start_time + timedelta(seconds=sliding_window)\n",
    "            finish_time = start_time + timedelta(seconds=duration)\n",
    "\n",
    "            if timer%6==0: print('.', end='')\n",
    "            timer += 1"
   ]
  },
  {
   "cell_type": "code",
   "execution_count": 31,
   "id": "0f845d19",
   "metadata": {},
   "outputs": [
    {
     "ename": "KeyboardInterrupt",
     "evalue": "",
     "output_type": "error",
     "traceback": [
      "\u001b[0;31m---------------------------------------------------------------------------\u001b[0m",
      "\u001b[0;31mKeyboardInterrupt\u001b[0m                         Traceback (most recent call last)",
      "Cell \u001b[0;32mIn[31], line 2\u001b[0m\n\u001b[1;32m      1\u001b[0m \u001b[38;5;28;01mfor\u001b[39;00m file \u001b[38;5;129;01min\u001b[39;00m get_file_list(directory):\n\u001b[0;32m----> 2\u001b[0m     raw_data \u001b[38;5;241m=\u001b[39m \u001b[43mAdInstrumentData\u001b[49m\u001b[43m(\u001b[49m\u001b[43m[\u001b[49m\u001b[43mfile\u001b[49m\u001b[43m]\u001b[49m\u001b[43m)\u001b[49m\n\u001b[1;32m      4\u001b[0m     start_time \u001b[38;5;241m=\u001b[39m raw_data\u001b[38;5;241m.\u001b[39mstart_time\n\u001b[1;32m      5\u001b[0m     finish_time \u001b[38;5;241m=\u001b[39m start_time \u001b[38;5;241m+\u001b[39m timedelta(seconds\u001b[38;5;241m=\u001b[39mduration)\n",
      "Cell \u001b[0;32mIn[24], line 6\u001b[0m, in \u001b[0;36mAdInstrumentData.__init__\u001b[0;34m(self, mat_files)\u001b[0m\n\u001b[1;32m      3\u001b[0m \u001b[38;5;28;01mdef\u001b[39;00m \u001b[38;5;21m__init__\u001b[39m(\u001b[38;5;28mself\u001b[39m, mat_files):\n\u001b[1;32m      4\u001b[0m     \u001b[38;5;66;03m# matfiles: can load several mat files\u001b[39;00m\n\u001b[0;32m----> 6\u001b[0m     data_dict \u001b[38;5;241m=\u001b[39m \u001b[43mmat73\u001b[49m\u001b[38;5;241;43m.\u001b[39;49m\u001b[43mloadmat\u001b[49m\u001b[43m(\u001b[49m\u001b[43mmat_files\u001b[49m\u001b[43m[\u001b[49m\u001b[38;5;241;43m0\u001b[39;49m\u001b[43m]\u001b[49m\u001b[43m)\u001b[49m\n\u001b[1;32m      7\u001b[0m     \u001b[38;5;66;03m# extract start time\u001b[39;00m\n\u001b[1;32m      8\u001b[0m     data_starts \u001b[38;5;241m=\u001b[39m data_dict[\u001b[38;5;124m'\u001b[39m\u001b[38;5;124mrecord_meta\u001b[39m\u001b[38;5;124m'\u001b[39m][\u001b[38;5;124m'\u001b[39m\u001b[38;5;124mdata_start\u001b[39m\u001b[38;5;124m'\u001b[39m]\n",
      "File \u001b[0;32m~/.pyenv/versions/3.10.10/lib/python3.10/site-packages/mat73/core.py:330\u001b[0m, in \u001b[0;36mloadmat\u001b[0;34m(file, use_attrdict, only_include, verbose)\u001b[0m\n\u001b[1;32m    328\u001b[0m \u001b[38;5;28;01mtry\u001b[39;00m:\n\u001b[1;32m    329\u001b[0m     \u001b[38;5;28;01mwith\u001b[39;00m h5py\u001b[38;5;241m.\u001b[39mFile(file, \u001b[38;5;124m'\u001b[39m\u001b[38;5;124mr\u001b[39m\u001b[38;5;124m'\u001b[39m) \u001b[38;5;28;01mas\u001b[39;00m hdf5:\n\u001b[0;32m--> 330\u001b[0m         dictionary \u001b[38;5;241m=\u001b[39m \u001b[43mdecoder\u001b[49m\u001b[38;5;241;43m.\u001b[39;49m\u001b[43mmat2dict\u001b[49m\u001b[43m(\u001b[49m\u001b[43mhdf5\u001b[49m\u001b[43m)\u001b[49m\n\u001b[1;32m    331\u001b[0m     \u001b[38;5;28;01mreturn\u001b[39;00m dictionary\n\u001b[1;32m    332\u001b[0m \u001b[38;5;28;01mexcept\u001b[39;00m \u001b[38;5;167;01mFileNotFoundError\u001b[39;00m:\n",
      "File \u001b[0;32m~/.pyenv/versions/3.10.10/lib/python3.10/site-packages/mat73/core.py:93\u001b[0m, in \u001b[0;36mHDF5Decoder.mat2dict\u001b[0;34m(self, hdf5)\u001b[0m\n\u001b[1;32m     91\u001b[0m     \u001b[38;5;28;01mif\u001b[39;00m \u001b[38;5;129;01mnot\u001b[39;00m \u001b[38;5;28mself\u001b[39m\u001b[38;5;241m.\u001b[39mis_included(hdf5[var]):\n\u001b[1;32m     92\u001b[0m         \u001b[38;5;28;01mcontinue\u001b[39;00m\n\u001b[0;32m---> 93\u001b[0m     d[var] \u001b[38;5;241m=\u001b[39m \u001b[38;5;28;43mself\u001b[39;49m\u001b[38;5;241;43m.\u001b[39;49m\u001b[43munpack_mat\u001b[49m\u001b[43m(\u001b[49m\u001b[43mhdf5\u001b[49m\u001b[43m[\u001b[49m\u001b[43mvar\u001b[49m\u001b[43m]\u001b[49m\u001b[43m)\u001b[49m\n\u001b[1;32m     95\u001b[0m \u001b[38;5;28;01mif\u001b[39;00m \u001b[38;5;28mself\u001b[39m\u001b[38;5;241m.\u001b[39monly_include \u001b[38;5;129;01mis\u001b[39;00m \u001b[38;5;129;01mnot\u001b[39;00m \u001b[38;5;28;01mNone\u001b[39;00m:\n\u001b[1;32m     96\u001b[0m     \u001b[38;5;28;01mfor\u001b[39;00m var, found \u001b[38;5;129;01min\u001b[39;00m \u001b[38;5;28mself\u001b[39m\u001b[38;5;241m.\u001b[39m_found_include_var\u001b[38;5;241m.\u001b[39mitems():\n",
      "File \u001b[0;32m~/.pyenv/versions/3.10.10/lib/python3.10/site-packages/mat73/core.py:186\u001b[0m, in \u001b[0;36mHDF5Decoder.unpack_mat\u001b[0;34m(self, hdf5, depth, MATLAB_class, force)\u001b[0m\n\u001b[1;32m    184\u001b[0m \u001b[38;5;28;01melif\u001b[39;00m \u001b[38;5;28misinstance\u001b[39m(hdf5, h5py\u001b[38;5;241m.\u001b[39m_hl\u001b[38;5;241m.\u001b[39mdataset\u001b[38;5;241m.\u001b[39mDataset):\n\u001b[1;32m    185\u001b[0m     \u001b[38;5;28;01mif\u001b[39;00m \u001b[38;5;28mself\u001b[39m\u001b[38;5;241m.\u001b[39mis_included(hdf5) \u001b[38;5;129;01mor\u001b[39;00m force:\n\u001b[0;32m--> 186\u001b[0m         \u001b[38;5;28;01mreturn\u001b[39;00m \u001b[38;5;28;43mself\u001b[39;49m\u001b[38;5;241;43m.\u001b[39;49m\u001b[43mconvert_mat\u001b[49m\u001b[43m(\u001b[49m\u001b[43mhdf5\u001b[49m\u001b[43m,\u001b[49m\u001b[43m \u001b[49m\u001b[43mdepth\u001b[49m\u001b[43m,\u001b[49m\u001b[43m \u001b[49m\u001b[43mMATLAB_class\u001b[49m\u001b[38;5;241;43m=\u001b[39;49m\u001b[43mMATLAB_class\u001b[49m\u001b[43m)\u001b[49m\n\u001b[1;32m    187\u001b[0m \u001b[38;5;28;01melse\u001b[39;00m:\n\u001b[1;32m    188\u001b[0m     \u001b[38;5;28;01mraise\u001b[39;00m \u001b[38;5;167;01mException\u001b[39;00m(\u001b[38;5;124mf\u001b[39m\u001b[38;5;124m'\u001b[39m\u001b[38;5;124mUnknown hdf5 type: \u001b[39m\u001b[38;5;132;01m{\u001b[39;00mkey\u001b[38;5;132;01m}\u001b[39;00m\u001b[38;5;124m:\u001b[39m\u001b[38;5;132;01m{\u001b[39;00m\u001b[38;5;28mtype\u001b[39m(hdf5)\u001b[38;5;132;01m}\u001b[39;00m\u001b[38;5;124m'\u001b[39m)\n",
      "File \u001b[0;32m~/.pyenv/versions/3.10.10/lib/python3.10/site-packages/mat73/core.py:288\u001b[0m, in \u001b[0;36mHDF5Decoder.convert_mat\u001b[0;34m(self, dataset, depth, MATLAB_class)\u001b[0m\n\u001b[1;32m    285\u001b[0m \u001b[38;5;66;03m# if it is none of the above, we can convert to numpy array\u001b[39;00m\n\u001b[1;32m    286\u001b[0m \u001b[38;5;28;01melif\u001b[39;00m mtype \u001b[38;5;129;01min\u001b[39;00m (\u001b[38;5;124m'\u001b[39m\u001b[38;5;124mdouble\u001b[39m\u001b[38;5;124m'\u001b[39m, \u001b[38;5;124m'\u001b[39m\u001b[38;5;124msingle\u001b[39m\u001b[38;5;124m'\u001b[39m, \u001b[38;5;124m'\u001b[39m\u001b[38;5;124mint8\u001b[39m\u001b[38;5;124m'\u001b[39m, \u001b[38;5;124m'\u001b[39m\u001b[38;5;124mint16\u001b[39m\u001b[38;5;124m'\u001b[39m, \u001b[38;5;124m'\u001b[39m\u001b[38;5;124mint32\u001b[39m\u001b[38;5;124m'\u001b[39m, \u001b[38;5;124m'\u001b[39m\u001b[38;5;124mint64\u001b[39m\u001b[38;5;124m'\u001b[39m,\n\u001b[1;32m    287\u001b[0m                \u001b[38;5;124m'\u001b[39m\u001b[38;5;124muint8\u001b[39m\u001b[38;5;124m'\u001b[39m, \u001b[38;5;124m'\u001b[39m\u001b[38;5;124muint16\u001b[39m\u001b[38;5;124m'\u001b[39m, \u001b[38;5;124m'\u001b[39m\u001b[38;5;124muint32\u001b[39m\u001b[38;5;124m'\u001b[39m, \u001b[38;5;124m'\u001b[39m\u001b[38;5;124muint64\u001b[39m\u001b[38;5;124m'\u001b[39m):\n\u001b[0;32m--> 288\u001b[0m     arr \u001b[38;5;241m=\u001b[39m \u001b[43mnp\u001b[49m\u001b[38;5;241;43m.\u001b[39;49m\u001b[43marray\u001b[49m\u001b[43m(\u001b[49m\u001b[43mdataset\u001b[49m\u001b[43m,\u001b[49m\u001b[43m \u001b[49m\u001b[43mdtype\u001b[49m\u001b[38;5;241;43m=\u001b[39;49m\u001b[43mdataset\u001b[49m\u001b[38;5;241;43m.\u001b[39;49m\u001b[43mdtype\u001b[49m\u001b[43m)\u001b[49m\n\u001b[1;32m    289\u001b[0m     \u001b[38;5;28;01mreturn\u001b[39;00m arr\u001b[38;5;241m.\u001b[39mT\u001b[38;5;241m.\u001b[39msqueeze()\n\u001b[1;32m    290\u001b[0m \u001b[38;5;28;01melif\u001b[39;00m mtype\u001b[38;5;241m==\u001b[39m\u001b[38;5;124m'\u001b[39m\u001b[38;5;124mmissing\u001b[39m\u001b[38;5;124m'\u001b[39m:\n",
      "File \u001b[0;32mh5py/_objects.pyx:54\u001b[0m, in \u001b[0;36mh5py._objects.with_phil.wrapper\u001b[0;34m()\u001b[0m\n",
      "File \u001b[0;32mh5py/_objects.pyx:55\u001b[0m, in \u001b[0;36mh5py._objects.with_phil.wrapper\u001b[0;34m()\u001b[0m\n",
      "File \u001b[0;32m~/.pyenv/versions/3.10.10/lib/python3.10/site-packages/h5py/_hl/dataset.py:1063\u001b[0m, in \u001b[0;36mDataset.__array__\u001b[0;34m(self, dtype)\u001b[0m\n\u001b[1;32m   1060\u001b[0m \u001b[38;5;28;01mif\u001b[39;00m \u001b[38;5;28mself\u001b[39m\u001b[38;5;241m.\u001b[39msize \u001b[38;5;241m==\u001b[39m \u001b[38;5;241m0\u001b[39m:\n\u001b[1;32m   1061\u001b[0m     \u001b[38;5;28;01mreturn\u001b[39;00m arr\n\u001b[0;32m-> 1063\u001b[0m \u001b[38;5;28;43mself\u001b[39;49m\u001b[38;5;241;43m.\u001b[39;49m\u001b[43mread_direct\u001b[49m\u001b[43m(\u001b[49m\u001b[43marr\u001b[49m\u001b[43m)\u001b[49m\n\u001b[1;32m   1064\u001b[0m \u001b[38;5;28;01mreturn\u001b[39;00m arr\n",
      "File \u001b[0;32m~/.pyenv/versions/3.10.10/lib/python3.10/site-packages/h5py/_hl/dataset.py:1024\u001b[0m, in \u001b[0;36mDataset.read_direct\u001b[0;34m(self, dest, source_sel, dest_sel)\u001b[0m\n\u001b[1;32m   1021\u001b[0m     dest_sel \u001b[38;5;241m=\u001b[39m sel\u001b[38;5;241m.\u001b[39mselect(dest\u001b[38;5;241m.\u001b[39mshape, dest_sel)\n\u001b[1;32m   1023\u001b[0m \u001b[38;5;28;01mfor\u001b[39;00m mspace \u001b[38;5;129;01min\u001b[39;00m dest_sel\u001b[38;5;241m.\u001b[39mbroadcast(source_sel\u001b[38;5;241m.\u001b[39marray_shape):\n\u001b[0;32m-> 1024\u001b[0m     \u001b[38;5;28;43mself\u001b[39;49m\u001b[38;5;241;43m.\u001b[39;49m\u001b[43mid\u001b[49m\u001b[38;5;241;43m.\u001b[39;49m\u001b[43mread\u001b[49m\u001b[43m(\u001b[49m\u001b[43mmspace\u001b[49m\u001b[43m,\u001b[49m\u001b[43m \u001b[49m\u001b[43mfspace\u001b[49m\u001b[43m,\u001b[49m\u001b[43m \u001b[49m\u001b[43mdest\u001b[49m\u001b[43m,\u001b[49m\u001b[43m \u001b[49m\u001b[43mdxpl\u001b[49m\u001b[38;5;241;43m=\u001b[39;49m\u001b[38;5;28;43mself\u001b[39;49m\u001b[38;5;241;43m.\u001b[39;49m\u001b[43m_dxpl\u001b[49m\u001b[43m)\u001b[49m\n",
      "\u001b[0;31mKeyboardInterrupt\u001b[0m: "
     ]
    }
   ],
   "source": [
    "for file in get_file_list(directory):\n",
    "    raw_data = AdInstrumentData([file])\n",
    "    \n",
    "    start_time = raw_data.start_time\n",
    "    finish_time = start_time + timedelta(seconds=duration)\n",
    "    \n",
    "    timer = 0\n",
    "        \n",
    "    while start_time < raw_data.finish_time:\n",
    "        for channel in channels:\n",
    "            if finish_time > raw_data.finish_time:\n",
    "                finish_time = raw_data.finish_time\n",
    "            ecg = raw_data.get_data(channel, from_time=start_time, to_time=finish_time)\n",
    "            hr_parameter = td.hr_parameters(nni=ecg['nni'])\n",
    "            calculated['hr_means'] += [hr_parameter[0]]\n",
    "            calculated['activity'] += [np.mean(ecg['activity'])]\n",
    "            calculated['val_level'] += [ecg['val_level']]\n",
    "            calculated['from_time'] += [ecg['from_time']]\n",
    "            calculated['to_time'] += [ecg['to_time']]\n",
    "            calculated['channel'] += [channel]\n",
    "        start_time = start_time + timedelta(seconds=sliding_window)\n",
    "        finish_time = start_time + timedelta(seconds=duration)\n",
    "        \n",
    "        if timer%6==0: print('.', end='')\n",
    "        timer += 1\n",
    "        "
   ]
  },
  {
   "cell_type": "code",
   "execution_count": 1,
   "id": "9e65b3f4",
   "metadata": {},
   "outputs": [
    {
     "ename": "NameError",
     "evalue": "name 'ecg' is not defined",
     "output_type": "error",
     "traceback": [
      "\u001b[0;31m---------------------------------------------------------------------------\u001b[0m",
      "\u001b[0;31mNameError\u001b[0m                                 Traceback (most recent call last)",
      "Cell \u001b[0;32mIn[1], line 1\u001b[0m\n\u001b[0;32m----> 1\u001b[0m \u001b[38;5;28mlen\u001b[39m(\u001b[43mecg\u001b[49m[\u001b[38;5;124m'\u001b[39m\u001b[38;5;124mnni\u001b[39m\u001b[38;5;124m'\u001b[39m])\n",
      "\u001b[0;31mNameError\u001b[0m: name 'ecg' is not defined"
     ]
    }
   ],
   "source": [
    "len(ecg['nni'])"
   ]
  },
  {
   "cell_type": "code",
   "execution_count": null,
   "id": "e043c731",
   "metadata": {},
   "outputs": [],
   "source": [
    "import pandas as pd\n",
    "df_calculated = pd.DataFrame(calculated)\n",
    "\n",
    "df_calculated.to_csv('actogram_2_10min_5min.csv')"
   ]
  },
  {
   "cell_type": "code",
   "execution_count": 31,
   "id": "96d9ddbe",
   "metadata": {},
   "outputs": [
    {
     "data": {
      "text/plain": [
       "0.9833333333333333"
      ]
     },
     "execution_count": 31,
     "metadata": {},
     "output_type": "execute_result"
    }
   ],
   "source": [
    "(datetime(2023,11,12,1,2,11)-datetime(2023,11,12,1,1,12)).seconds/60.0"
   ]
  },
  {
   "cell_type": "code",
   "execution_count": null,
   "id": "a8d1c28a",
   "metadata": {},
   "outputs": [],
   "source": []
  }
 ],
 "metadata": {
  "kernelspec": {
   "display_name": "venv",
   "language": "python",
   "name": "venv"
  },
  "language_info": {
   "codemirror_mode": {
    "name": "ipython",
    "version": 3
   },
   "file_extension": ".py",
   "mimetype": "text/x-python",
   "name": "python",
   "nbconvert_exporter": "python",
   "pygments_lexer": "ipython3",
   "version": "3.10.10"
  }
 },
 "nbformat": 4,
 "nbformat_minor": 5
}
